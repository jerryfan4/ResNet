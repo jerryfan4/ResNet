{
 "cells": [
  {
   "cell_type": "code",
   "execution_count": 1,
   "metadata": {
    "collapsed": false
   },
   "outputs": [],
   "source": [
    "from ResNet import *\n",
    "import cPickle\n",
    "import numpy as np\n",
    "import os"
   ]
  },
  {
   "cell_type": "markdown",
   "metadata": {},
   "source": [
    "## Configuration"
   ]
  },
  {
   "cell_type": "code",
   "execution_count": 2,
   "metadata": {
    "collapsed": true
   },
   "outputs": [],
   "source": [
    "num_units = 5\n",
    "exp_id = 0\n",
    "gpu_number = 0\n",
    "epoch = 400\n",
    "os.environ['CUDA_VISIBLE_DEVICES'] = str(gpu_number)\n",
    "cifar_dir = '/scratch/f1fan/ResNet/data/cifar-10-batches-py'\n",
    "train_files = ['data_batch_1',\n",
    "               'data_batch_2',\n",
    "               'data_batch_3',\n",
    "               'data_batch_4',\n",
    "               'data_batch_5']\n",
    "test_file = 'test_batch'\n",
    "log_file_path = os.path.join('/scratch/f1fan/ResNet', 'log_exp{}.txt'.format(exp_id))\n",
    "log_file = open(log_file_path, 'w+')"
   ]
  },
  {
   "cell_type": "markdown",
   "metadata": {},
   "source": [
    "## Log"
   ]
  },
  {
   "cell_type": "code",
   "execution_count": 3,
   "metadata": {
    "collapsed": true
   },
   "outputs": [],
   "source": [
    "def log(line):\n",
    "    log_file.write(line)\n",
    "    log_file.write('\\n')\n",
    "    log_file.flush()\n",
    "    print line"
   ]
  },
  {
   "cell_type": "markdown",
   "metadata": {},
   "source": [
    "## Dataset Functions"
   ]
  },
  {
   "cell_type": "code",
   "execution_count": 4,
   "metadata": {
    "collapsed": true
   },
   "outputs": [],
   "source": [
    "def load_train_data():\n",
    "    images = []\n",
    "    labels = []\n",
    "    \n",
    "    # Process data files\n",
    "    for data_file in train_files:\n",
    "        full_path = os.path.join(cifar_dir, data_file)\n",
    "        with open(full_path, 'rb') as f:\n",
    "            raw = cPickle.load(f)\n",
    "    \n",
    "        count = raw['data'].shape[0]\n",
    "        batch = np.transpose(raw['data'].reshape((count, 3, 32, 32)), (0, 2, 3, 1))\n",
    "    \n",
    "        images += (list(batch))\n",
    "        labels += raw['labels']\n",
    "        \n",
    "    return np.array(images).astype(np.float32), np.array(labels)"
   ]
  },
  {
   "cell_type": "code",
   "execution_count": 5,
   "metadata": {
    "collapsed": true
   },
   "outputs": [],
   "source": [
    "def load_test_data():\n",
    "    images = []\n",
    "    labels = []\n",
    "    \n",
    "    # Process data file\n",
    "    full_path = os.path.join(cifar_dir, test_file)\n",
    "    with open(full_path, 'rb') as f:\n",
    "        raw = cPickle.load(f)\n",
    "    \n",
    "    count = raw['data'].shape[0]\n",
    "    batch = np.transpose(raw['data'].reshape((count, 3, 32, 32)), (0, 2, 3, 1))\n",
    "    \n",
    "    images += (list(batch))\n",
    "    labels += raw['labels']  \n",
    "    \n",
    "    return np.array(images).astype(np.float32), np.array(labels)"
   ]
  },
  {
   "cell_type": "code",
   "execution_count": 6,
   "metadata": {
    "collapsed": true
   },
   "outputs": [],
   "source": [
    "def get_per_pixel_mean(train_images, test_images):\n",
    "    images = np.concatenate((train_images, test_images), axis=0)\n",
    "    return np.mean(images, axis=0)"
   ]
  },
  {
   "cell_type": "markdown",
   "metadata": {},
   "source": [
    "## Main function"
   ]
  },
  {
   "cell_type": "code",
   "execution_count": null,
   "metadata": {
    "collapsed": false
   },
   "outputs": [],
   "source": [
    "def main(sess):\n",
    "    train_images, train_labels = load_train_data()\n",
    "    test_images, test_labels = load_test_data()\n",
    "    pp_mean = get_per_pixel_mean(train_images, test_images)\n",
    "    train_images = (train_images - pp_mean) / 128.0\n",
    "    test_images = (test_images - pp_mean) / 128.0\n",
    "    \n",
    "    image_shape = [32, 32, 3]\n",
    "    train_batch_size = 128\n",
    "    test_batch_size = 100\n",
    "    model = ResNet(num_units, image_shape, train_batch_size, test_batch_size)\n",
    "    train_op, train_loss, train_accuracy = model.build_train_op()\n",
    "    test_loss, test_accuracy = model.build_test_op()\n",
    "    \n",
    "    global_variables = tf.get_collection(tf.GraphKeys.GLOBAL_VARIABLES, scope='')\n",
    "    log('Global variables:')\n",
    "    for i, var in enumerate(global_variables):\n",
    "        log('{0} {1}'.format(i, var.name))\n",
    "    \n",
    "    all_initializer_op = tf.global_variables_initializer()\n",
    "    sess.run(all_initializer_op)\n",
    "    \n",
    "    iteration_per_epoch = train_images.shape[0] // train_batch_size\n",
    "    for i in range(epoch):\n",
    "        shuffle = np.random.permutation(train_images.shape[0])\n",
    "        \n",
    "        total_loss = 0.0\n",
    "        total_accuracy = 0.0\n",
    "        for j in range(iteration_per_epoch):\n",
    "            batch_images = train_images[shuffle[j * train_batch_size : (j + 1) * train_batch_size]]\n",
    "            batch_labels = train_labels[shuffle[j * train_batch_size : (j + 1) * train_batch_size]]\n",
    "            \n",
    "            sess.run(train_op,\n",
    "                     feed_dict = {model.train_image_placeholder: batch_images, \n",
    "                                  model.train_label_placeholder: batch_labels})\n",
    "            curr_loss, curr_accuracy = sess.run([train_loss,train_accuracy],\n",
    "                                                feed_dict = {model.train_image_placeholder: batch_images, \n",
    "                                                             model.train_label_placeholder: batch_labels})\n",
    "            #sess.run(train_step_op)\n",
    "            total_loss += curr_loss\n",
    "            total_accuracy += curr_accuracy\n",
    "        \n",
    "        train_step = sess.run(model.train_step)\n",
    "        total_loss /= iteration_per_epoch\n",
    "        total_accuracy /= iteration_per_epoch\n",
    "        log('Training epoch {0}, step {1}, train_loss {2}, train_accuracy {3}'.format\n",
    "            (i, train_step, total_loss, total_accuracy))\n",
    "            \n",
    "\n",
    "        test_batch_count = test_images.shape[0] // test_batch_size\n",
    "        total_loss = 0.0\n",
    "        total_accuracy = 0.0\n",
    "        for k in range(test_batch_count):\n",
    "            batch_images = test_images[k * test_batch_size : (k + 1) * test_batch_size]\n",
    "            batch_labels = test_labels[k * test_batch_size : (k + 1) * test_batch_size]\n",
    "                \n",
    "            curr_loss, curr_accuracy = sess.run([test_loss, test_accuracy],\n",
    "                                                feed_dict = {model.test_image_placeholder: batch_images,\n",
    "                                                             model.test_label_placeholder: batch_labels})\n",
    "            total_loss += curr_loss\n",
    "            total_accuracy += curr_accuracy\n",
    "            \n",
    "        total_loss /= test_batch_count\n",
    "        total_accuracy /= test_batch_count\n",
    "        log('Testing after epoch {0}, loss {1}, accuracy {2}'.format(i, total_loss, total_accuracy))"
   ]
  },
  {
   "cell_type": "code",
   "execution_count": null,
   "metadata": {
    "collapsed": false,
    "scrolled": false
   },
   "outputs": [],
   "source": [
    "config = tf.ConfigProto(allow_soft_placement=True)\n",
    "config.gpu_options.allow_growth = True\n",
    "graph = tf.Graph()\n",
    "with graph.as_default():\n",
    "    with tf.Session(config=config) as sess:\n",
    "        main(sess)\n",
    "log_file.close()"
   ]
  }
 ],
 "metadata": {
  "kernelspec": {
   "display_name": "Python 2",
   "language": "python",
   "name": "python2"
  },
  "language_info": {
   "codemirror_mode": {
    "name": "ipython",
    "version": 2
   },
   "file_extension": ".py",
   "mimetype": "text/x-python",
   "name": "python",
   "nbconvert_exporter": "python",
   "pygments_lexer": "ipython2",
   "version": "2.7.12"
  }
 },
 "nbformat": 4,
 "nbformat_minor": 0
}
