{
 "cells": [
  {
   "cell_type": "code",
   "execution_count": 1,
   "metadata": {
    "collapsed": false
   },
   "outputs": [],
   "source": [
    "from ResNet import *\n",
    "from Cifar10 import *\n",
    "import cPickle\n",
    "import numpy as np\n",
    "import os"
   ]
  },
  {
   "cell_type": "markdown",
   "metadata": {},
   "source": [
    "## Configuration"
   ]
  },
  {
   "cell_type": "code",
   "execution_count": 2,
   "metadata": {
    "collapsed": true
   },
   "outputs": [],
   "source": [
    "num_units = 5\n",
    "exp_id = 0\n",
    "gpu_number = 0\n",
    "epoch = 400\n",
    "image_shape = [32, 32, 3]\n",
    "train_batch_size = 128\n",
    "test_batch_size = 100\n",
    "os.environ['CUDA_VISIBLE_DEVICES'] = str(gpu_number)\n",
    "\n",
    "log_file_path = os.path.join('/scratch/f1fan/temp/ResNet', 'log_exp{}.txt'.format(exp_id))\n",
    "log_file = open(log_file_path, 'w+')"
   ]
  },
  {
   "cell_type": "markdown",
   "metadata": {},
   "source": [
    "## Log"
   ]
  },
  {
   "cell_type": "code",
   "execution_count": 3,
   "metadata": {
    "collapsed": true
   },
   "outputs": [],
   "source": [
    "def log(line):\n",
    "    log_file.write(line)\n",
    "    log_file.write('\\n')\n",
    "    log_file.flush()\n",
    "    print line"
   ]
  },
  {
   "cell_type": "markdown",
   "metadata": {},
   "source": [
    "## Main function"
   ]
  },
  {
   "cell_type": "code",
   "execution_count": null,
   "metadata": {
    "collapsed": false
   },
   "outputs": [],
   "source": [
    "def main(sess):\n",
    "    dataset = Cifar10(train_batch_size, test_batch_size)\n",
    "    model = ResNet(num_units, image_shape, train_batch_size, test_batch_size)\n",
    "    train_op, train_loss, train_accuracy = model.build_train_op()\n",
    "    test_loss, test_accuracy = model.build_test_op()\n",
    "    \n",
    "    global_variables = tf.get_collection(tf.GraphKeys.GLOBAL_VARIABLES, scope='')\n",
    "    log('Global variables:')\n",
    "    for i, var in enumerate(global_variables):\n",
    "        log('{0} {1}'.format(i, var.name))\n",
    "    \n",
    "    all_initializer_op = tf.global_variables_initializer()\n",
    "    sess.run(all_initializer_op)\n",
    "    \n",
    "    for i in range(epoch):  \n",
    "        total_loss = 0.0\n",
    "        total_accuracy = 0.0\n",
    "        for j in range(dataset.train_batch_count):\n",
    "            batch_images, batch_labels = dataset.next_aug_train_batch(j)\n",
    "            \n",
    "            sess.run(train_op,\n",
    "                     feed_dict = {model.train_image_placeholder: batch_images, \n",
    "                                  model.train_label_placeholder: batch_labels})\n",
    "            curr_loss, curr_accuracy = sess.run([train_loss,train_accuracy],\n",
    "                                                feed_dict = {model.train_image_placeholder: batch_images, \n",
    "                                                             model.train_label_placeholder: batch_labels})\n",
    "            #sess.run(train_step_op)\n",
    "            total_loss += curr_loss\n",
    "            total_accuracy += curr_accuracy\n",
    "        \n",
    "        total_loss /= dataset.train_batch_count\n",
    "        total_accuracy /= dataset.train_batch_count\n",
    "        log('Training epoch {0}, step {1}, learning rate {2}'.\n",
    "            format(i, sess.run(model.train_step), sess.run(model.learning_rate)))\n",
    "        log('    train loss {0}, train error {1}'.format(total_loss, 1.0 - total_accuracy))\n",
    "            \n",
    "\n",
    "        total_loss = 0.0\n",
    "        total_accuracy = 0.0\n",
    "        for k in range(dataset.test_batch_count):\n",
    "            batch_images, batch_labels = dataset.next_test_batch(k)\n",
    "                \n",
    "            curr_loss, curr_accuracy = sess.run([test_loss, test_accuracy],\n",
    "                                                feed_dict = {model.test_image_placeholder: batch_images,\n",
    "                                                             model.test_label_placeholder: batch_labels})\n",
    "            total_loss += curr_loss\n",
    "            total_accuracy += curr_accuracy\n",
    "            \n",
    "        total_loss /= dataset.test_batch_count\n",
    "        total_accuracy /= dataset.test_batch_count\n",
    "        log('Testing after epoch {0}'.format(i))\n",
    "        log('    test loss {0}, test_error {1}'.format(total_loss, 1.0 - total_accuracy))"
   ]
  },
  {
   "cell_type": "code",
   "execution_count": null,
   "metadata": {
    "collapsed": false,
    "scrolled": false
   },
   "outputs": [],
   "source": [
    "config = tf.ConfigProto(allow_soft_placement=True)\n",
    "config.gpu_options.allow_growth = True\n",
    "graph = tf.Graph()\n",
    "with graph.as_default():\n",
    "    with tf.Session(config=config) as sess:\n",
    "        main(sess)\n",
    "log_file.close()"
   ]
  }
 ],
 "metadata": {
  "kernelspec": {
   "display_name": "Python 2",
   "language": "python",
   "name": "python2"
  },
  "language_info": {
   "codemirror_mode": {
    "name": "ipython",
    "version": 2
   },
   "file_extension": ".py",
   "mimetype": "text/x-python",
   "name": "python",
   "nbconvert_exporter": "python",
   "pygments_lexer": "ipython2",
   "version": "2.7.12"
  }
 },
 "nbformat": 4,
 "nbformat_minor": 0
}
