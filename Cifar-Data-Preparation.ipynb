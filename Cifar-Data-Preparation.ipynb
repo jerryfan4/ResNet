{
 "cells": [
  {
   "cell_type": "code",
   "execution_count": 6,
   "metadata": {
    "collapsed": true
   },
   "outputs": [],
   "source": [
    "import urllib\n",
    "import os\n",
    "import tarfile"
   ]
  },
  {
   "cell_type": "code",
   "execution_count": 7,
   "metadata": {
    "collapsed": true
   },
   "outputs": [],
   "source": [
    "def mkdir_if_not_exists(path):\n",
    "    '''\n",
    "    Create directory if it does not exist.\n",
    "        path:           Path of directory.\n",
    "    '''\n",
    "    if not os.path.exists(path):\n",
    "        os.mkdir(path)"
   ]
  },
  {
   "cell_type": "code",
   "execution_count": 8,
   "metadata": {
    "collapsed": false
   },
   "outputs": [
    {
     "name": "stdout",
     "output_type": "stream",
     "text": [
      "Downloading cifar dataset...\n",
      "Extracting cifar dataset...\n"
     ]
    }
   ],
   "source": [
    "cifar_data_url = 'https://www.cs.toronto.edu/~kriz/cifar-10-python.tar.gz'\n",
    "cifar_dir = '/scratch/f1fan/ResNet/data'\n",
    "cifar_data_file = os.path.join(cifar_dir, 'cifar-10-python.tar.gz')\n",
    "mkdir_if_not_exists(cifar_dir)\n",
    "\n",
    "if not os.path.exists(cifar_data_file):\n",
    "    print 'Downloading cifar dataset...'\n",
    "    urllib.urlretrieve(cifar_data_url, cifar_data_file)\n",
    "    \n",
    "    print 'Extracting cifar dataset...'\n",
    "    tar = tarfile.open(cifar_data_file, \"r:gz\")\n",
    "    tar.extractall(cifar_dir)\n",
    "    tar.close()"
   ]
  },
  {
   "cell_type": "code",
   "execution_count": null,
   "metadata": {
    "collapsed": true
   },
   "outputs": [],
   "source": []
  }
 ],
 "metadata": {
  "kernelspec": {
   "display_name": "Python 2",
   "language": "python",
   "name": "python2"
  },
  "language_info": {
   "codemirror_mode": {
    "name": "ipython",
    "version": 2
   },
   "file_extension": ".py",
   "mimetype": "text/x-python",
   "name": "python",
   "nbconvert_exporter": "python",
   "pygments_lexer": "ipython2",
   "version": "2.7.12"
  }
 },
 "nbformat": 4,
 "nbformat_minor": 0
}
