{
 "cells": [
  {
   "cell_type": "code",
   "execution_count": 1,
   "metadata": {
    "collapsed": false
   },
   "outputs": [],
   "source": [
    "%matplotlib inline\n",
    "import os\n",
    "import gzip\n",
    "import numpy as np\n",
    "import sys\n",
    "import matplotlib.pyplot as plt\n",
    "from six.moves import urllib\n",
    "import cv2"
   ]
  },
  {
   "cell_type": "code",
   "execution_count": 2,
   "metadata": {
    "collapsed": true
   },
   "outputs": [],
   "source": [
    "mnist_data_url = 'http://yann.lecun.com/exdb/mnist/'"
   ]
  },
  {
   "cell_type": "code",
   "execution_count": 3,
   "metadata": {
    "collapsed": true
   },
   "outputs": [],
   "source": [
    "def mkdir_if_not_exists(path):\n",
    "    '''\n",
    "    Create directory if it does not exist.\n",
    "        path:           Path of directory.\n",
    "    '''\n",
    "    if not os.path.exists(path):\n",
    "        os.mkdir(path)"
   ]
  },
  {
   "cell_type": "code",
   "execution_count": 4,
   "metadata": {
    "collapsed": true
   },
   "outputs": [],
   "source": [
    "def _read32(bytestream):\n",
    "    dt = np.dtype(np.uint32).newbyteorder('>')\n",
    "    return np.frombuffer(bytestream.read(4), dtype=dt)[0]"
   ]
  },
  {
   "cell_type": "code",
   "execution_count": 5,
   "metadata": {
    "collapsed": true
   },
   "outputs": [],
   "source": [
    "def maybe_download(filename, work_directory):\n",
    "    \"\"\"Download the data from Yann's website, unless it's already here.\"\"\"\n",
    "    filepath = os.path.join(work_directory, filename)\n",
    "    if not os.path.exists(filepath):\n",
    "        print \"Downloading mnist data to {}...\".format(filepath)\n",
    "        download(mnist_data_url + filename, work_directory)\n",
    "    return filepath"
   ]
  },
  {
   "cell_type": "code",
   "execution_count": 6,
   "metadata": {
    "collapsed": true
   },
   "outputs": [],
   "source": [
    "def download(url, dir):\n",
    "    fname = url.split('/')[-1]\n",
    "    fpath = os.path.join(dir, fname)\n",
    "\n",
    "    try:\n",
    "        fpath, _ = urllib.request.urlretrieve(url, fpath)\n",
    "        statinfo = os.stat(fpath)\n",
    "        size = statinfo.st_size\n",
    "    except:\n",
    "        print \"Failed to download {}\".format(url)\n",
    "        raise\n",
    "    assert size > 0, \"Download an empty file!\"\n",
    "    sys.stdout.write('\\n')\n",
    "    # TODO human-readable size\n",
    "    print('Succesfully downloaded ' + fname + \" \" + str(size) + ' bytes.')\n",
    "    return fpath"
   ]
  },
  {
   "cell_type": "code",
   "execution_count": 7,
   "metadata": {
    "collapsed": false
   },
   "outputs": [
    {
     "name": "stdout",
     "output_type": "stream",
     "text": [
      "Downloading mnist data to /scratch/f1fan/ResNet/data/t10k-images-idx3-ubyte.gz...\n",
      "\n",
      "Succesfully downloaded t10k-images-idx3-ubyte.gz 1648877 bytes.\n",
      "Downloading mnist data to /scratch/f1fan/ResNet/data/t10k-labels-idx1-ubyte.gz...\n",
      "\n",
      "Succesfully downloaded t10k-labels-idx1-ubyte.gz 4542 bytes.\n"
     ]
    }
   ],
   "source": [
    "# Root directory of data directory. Customize it when using another directory.\n",
    "# e.g. \"./\"\n",
    "mnist_dir = \"/scratch/f1fan/ResNet/data\"\n",
    "\n",
    "# Create a series of directories to contain the dataset.\n",
    "mkdir_if_not_exists(mnist_dir)\n",
    "\n",
    "train_image_f = maybe_download('train-images-idx3-ubyte.gz', mnist_dir)\n",
    "train_label_f = maybe_download('train-labels-idx1-ubyte.gz', mnist_dir)\n",
    "test_image_f = maybe_download('t10k-images-idx3-ubyte.gz', mnist_dir)\n",
    "test_label_f = maybe_download('t10k-labels-idx1-ubyte.gz', mnist_dir)"
   ]
  },
  {
   "cell_type": "code",
   "execution_count": null,
   "metadata": {
    "collapsed": true
   },
   "outputs": [],
   "source": []
  }
 ],
 "metadata": {
  "kernelspec": {
   "display_name": "Python 2",
   "language": "python",
   "name": "python2"
  },
  "language_info": {
   "codemirror_mode": {
    "name": "ipython",
    "version": 2
   },
   "file_extension": ".py",
   "mimetype": "text/x-python",
   "name": "python",
   "nbconvert_exporter": "python",
   "pygments_lexer": "ipython2",
   "version": "2.7.12"
  }
 },
 "nbformat": 4,
 "nbformat_minor": 0
}
